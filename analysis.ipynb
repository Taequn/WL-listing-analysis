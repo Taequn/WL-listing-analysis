{
 "cells": [
  {
   "attachments": {},
   "cell_type": "markdown",
   "metadata": {},
   "source": [
    "Here's the code for analyzing listings!"
   ]
  },
  {
   "cell_type": "code",
   "execution_count": null,
   "metadata": {},
   "outputs": [],
   "source": [
    "import pandas\n",
    "from plotnine import *\n",
    "import parse\n",
    "import datetime\n",
    "import warnings\n",
    "import math\n",
    "\n",
    "warnings.filterwarnings('ignore')"
   ]
  },
  {
   "cell_type": "code",
   "execution_count": null,
   "metadata": {},
   "outputs": [],
   "source": [
    "listings = parse.Listings()\n",
    "df = listings.fetch_data()\n",
    "df = df[df['Date'] != 'TBA']\n",
    "df = df[df['Date'] >= datetime.date.today().strftime('%Y-%m-%d')]\n",
    "\n",
    "listing_df = df"
   ]
  },
  {
   "attachments": {},
   "cell_type": "markdown",
   "metadata": {},
   "source": [
    "The following code block is going to show you a column plot with the most popular listings."
   ]
  },
  {
   "cell_type": "code",
   "execution_count": null,
   "metadata": {},
   "outputs": [],
   "source": [
    "(ggplot(listing_df, aes(x='Listing', fill='Listing')) + \n",
    " geom_bar() + \n",
    " theme_bw() +\n",
    " theme(axis_text_x=element_text(angle=90, hjust=1), \n",
    "       legend_position=\"none\"))"
   ]
  },
  {
   "attachments": {},
   "cell_type": "markdown",
   "metadata": {},
   "source": [
    "The following code block is going to print top 10 the most listed collections"
   ]
  },
  {
   "cell_type": "code",
   "execution_count": null,
   "metadata": {},
   "outputs": [],
   "source": [
    "listed_df = df.groupby('Collection').size().reset_index(name='counts')\n",
    "top10 = listed_df.sort_values('counts', ascending=False).head(10)\n",
    "\n",
    "#add all the information for the top 10 collections from df\n",
    "top10 = top10.merge(df, on='Collection', how='left').drop_duplicates(subset='Collection', keep='first')\n",
    "#print top10\n",
    "for index, row in top10.iterrows():\n",
    "    print(\"Collection: \" + row['Collection'] + \" (Listed \" +  str(row['counts']) + \")\")\n",
    "    print(\"Date: \" + row['Date'])\n",
    "    print(\"Mint: \" + str(row['Price']) + \" at \" + row['Platform'])\n",
    "    print(\"Twitter: \" + row['Twitter'] + \"\\n\")"
   ]
  },
  {
   "cell_type": "code",
   "execution_count": null,
   "metadata": {},
   "outputs": [],
   "source": [
    "(ggplot(top10, aes(x='Collection', y='counts', fill='Collection')) +\n",
    "    geom_bar(stat='identity') +\n",
    "    theme_bw() +\n",
    "    theme(axis_text_x=element_text(angle=90, hjust=1),\n",
    "            legend_position=\"none\") +\n",
    "    scale_x_discrete(limits=top10.sort_values('counts', ascending=False)['Collection']))"
   ]
  },
  {
   "attachments": {},
   "cell_type": "markdown",
   "metadata": {},
   "source": [
    "Preparing the dataset with mint dates"
   ]
  },
  {
   "cell_type": "code",
   "execution_count": null,
   "metadata": {},
   "outputs": [],
   "source": [
    "mint_days_df = df\n",
    "mint_days_df = mint_days_df[mint_days_df.Date != 'TBA']\n",
    "#Convert Date to datetime\n",
    "mint_days_df['Date'] = pandas.to_datetime(mint_days_df['Date'])\n",
    "mint_days_df['Date'] = mint_days_df['Date'].dt.strftime('%Y-%m-%d')\n",
    "\n",
    "#group by date and count\n",
    "popular_mint_days = mint_days_df.groupby('Date').size().reset_index(name='counts')\n",
    "popular_mint_days = popular_mint_days.sort_values('Date', ascending=True)\n",
    "popular_mint_days = popular_mint_days[popular_mint_days['Date'] >= datetime.datetime.today().strftime('%Y-%m-%d')]\n",
    "\n",
    "#Plotting the the next 20 popular mint days\n",
    "(ggplot(popular_mint_days.head(20), aes(x='Date', y='counts', fill='Date')) +\n",
    "    geom_bar(stat='identity') +\n",
    "    theme_bw() +\n",
    "    theme(axis_text_x=element_text(angle=90, hjust=1),\n",
    "            legend_position=\"none\") +\n",
    "    scale_x_discrete(limits=popular_mint_days.head(20)['Date']))"
   ]
  },
  {
   "cell_type": "code",
   "execution_count": null,
   "metadata": {},
   "outputs": [],
   "source": [
    "#Mint days by platform\n",
    "platform_mint_days = mint_days_df.groupby(['Platform', 'Date']).size().reset_index(name='counts')\n",
    "platform_mint_days = platform_mint_days.sort_values('Date', ascending=True)\n",
    "platform_mint_days = platform_mint_days[platform_mint_days['Date'] >= datetime.datetime.today().strftime('%Y-%m-%d')]\n",
    "platform_mint_days = platform_mint_days[platform_mint_days['Platform'] != '']\n",
    "\n",
    "(ggplot(platform_mint_days.head(20), aes(x='Date', y='counts', fill='Date')) +\n",
    "    geom_bar(stat='identity') +\n",
    "    theme_bw() +\n",
    "    theme(axis_text_x=element_text(angle=90, hjust=1),\n",
    "            legend_position=\"none\") +\n",
    "    facet_wrap('~Platform'))"
   ]
  },
  {
   "cell_type": "code",
   "execution_count": null,
   "metadata": {},
   "outputs": [],
   "source": [
    "#Getting the total view of the upcoming mint days\n",
    "(ggplot(popular_mint_days, aes(x='Date', y='counts', fill='Date')) +\n",
    "    geom_bar(stat='identity') +\n",
    "    theme_bw() +\n",
    "    #remove x axis labels\n",
    "    theme(axis_text_x=element_blank(),\n",
    "          legend_position=\"none\") +\n",
    "    scale_x_discrete(limits=popular_mint_days['Date']))"
   ]
  },
  {
   "attachments": {},
   "cell_type": "markdown",
   "metadata": {},
   "source": [
    "Проекты с разбивкой по блокчейну."
   ]
  },
  {
   "cell_type": "code",
   "execution_count": null,
   "metadata": {},
   "outputs": [],
   "source": [
    "# Column plot with number of listings per Platform\n",
    "df_platform = df.groupby('Platform').size().reset_index(name='counts')\n",
    "df_platform = df_platform[df_platform['Platform'] != '']\n",
    "print(\"Total number of listings: \" + str(len(df)))\n",
    "print(df_platform.sort_values('counts', ascending=False))"
   ]
  },
  {
   "cell_type": "code",
   "execution_count": null,
   "metadata": {},
   "outputs": [],
   "source": [
    "(ggplot(df_platform, aes(x='Platform', y='counts', fill='Platform')) +\n",
    "    geom_bar(stat='identity') +\n",
    "    theme_bw() +\n",
    "    theme(axis_text_x=element_text(angle=90, hjust=1),\n",
    "            legend_position=\"none\") +\n",
    "    scale_x_discrete(limits=df_platform.sort_values('counts', ascending=False)['Platform']) +\n",
    "    geom_text(aes(label='counts'), stat='identity', position=position_stack(vjust=0.5)) + \n",
    "    labs(title=\"Number of listings per Platform\", x=\"Platform\", y=\"Number of listings\", fill=\"Platform\"))\n"
   ]
  },
  {
   "attachments": {},
   "cell_type": "markdown",
   "metadata": {},
   "source": [
    "Топ-10 по цене проекты."
   ]
  },
  {
   "cell_type": "code",
   "execution_count": null,
   "metadata": {},
   "outputs": [],
   "source": [
    "top_price_df = df\n",
    "#clean\n",
    "top_price_df = top_price_df[top_price_df['Platform'] != '']\n",
    "top_price_df = top_price_df[top_price_df['Price'] != '']\n",
    "top_price_df = top_price_df[top_price_df['Price'] != 'TBA']\n",
    "#Change this accordingly\n",
    "price_dict = {\n",
    "    'Ethereum': 1722,\n",
    "    'Solana': 19,\n",
    "    'Polygon': 1,\n",
    "    'Cardano': 0.34,\n",
    "    'Cronos': 0.069,\n",
    "    'Elrond': 41.88\n",
    "}\n",
    "\n",
    "#iterate through the dataframe and convert the price to USD\n",
    "for index, row in top_price_df.iterrows():\n",
    "    try:\n",
    "        top_price_df.at[index, 'Price'] = float(row['Price'])\n",
    "    except:\n",
    "        top_price_df.at[index, 'Price'] = 0\n",
    "        \n",
    "top_price_df = top_price_df[top_price_df['Price'] != 0]\n",
    "\n",
    "#Convert to USD for Price USD column\n",
    "top_price_df['Price USD'] = top_price_df.apply(lambda row: row['Price'] * price_dict[row['Platform']], axis=1)\n",
    "\n",
    "print(\"Top 10 most expensive listings\")\n",
    "top10_price = top_price_df.sort_values('Price USD', ascending=False)\n",
    "\n",
    "print(\"Total number of listings: \" + str(len(top_price_df)))\n",
    "print(\"Median price: $\" + str(top_price_df['Price USD'].median()) + \" USD\\n\")\n",
    "\n",
    "for index, row in top10_price.head(10).iterrows():\n",
    "    print(\"Collection: \" + row['Collection'])\n",
    "    print(\"Date: \" + row['Date'])\n",
    "    print(\"Mint: $\" + str(row['Price']) + \" at \" + row['Platform'])\n",
    "    print(\"Twitter: \" + row['Twitter'] + \"\\n\")\n"
   ]
  },
  {
   "cell_type": "code",
   "execution_count": null,
   "metadata": {},
   "outputs": [],
   "source": [
    "bottom10_price = top_price_df.sort_values('Price USD', ascending=True)\n",
    "\n",
    "for index, row in bottom10_price.head(10).iterrows():\n",
    "    print(\"Collection: \" + row['Collection'])\n",
    "    print(\"Date: \" + row['Date'])\n",
    "    print(\"Mint: $\" + str(row['Price']) + \" at \" + row['Platform'])\n",
    "    print(\"Twitter: \" + row['Twitter'] + \"\\n\")"
   ]
  },
  {
   "cell_type": "code",
   "execution_count": null,
   "metadata": {},
   "outputs": [],
   "source": [
    "def convert_scientific_notation(number):\n",
    "    return number * 10 ** (int(math.log10(number)) - 5)\n",
    "\n",
    "#Calculate the total price volume for each platform\n",
    "platform_price_df = top_price_df.groupby('Platform').sum().reset_index()\n",
    "\n",
    "print(\"Total collections with price and platform listed:\" + str(len(top_price_df)))\n",
    "print(\"Cumulitive total price volume: $\" + str(convert_scientific_notation(platform_price_df['Price USD'].sum())) + '\\n')\n",
    "\n",
    "for index, row in platform_price_df.sort_values('Price USD', ascending=False).iterrows():\n",
    "    print(\"Platform: \" + row['Platform'])\n",
    "    print(\"Total Price Volume: $\" + str(convert_scientific_notation(row['Price USD'])) + '\\n')"
   ]
  },
  {
   "cell_type": "code",
   "execution_count": null,
   "metadata": {},
   "outputs": [],
   "source": [
    "#Plot the total price volume for the next 20 days\n",
    "next_volume_df = top_price_df\n",
    "\n",
    "#Convert Date to datetime\n",
    "next_volume_df['Date'] = pandas.to_datetime(next_volume_df['Date'])\n",
    "next_volume_df['Date'] = next_volume_df['Date'].dt.strftime('%Y-%m-%d')\n",
    "\n",
    "#For each date, get the total price volume for each platform\n",
    "next_volume_df = next_volume_df.groupby(['Date', 'Platform']).sum().reset_index()\n",
    "next_volume_df = next_volume_df[next_volume_df['Date'] >= datetime.datetime.today().strftime('%Y-%m-%d')]\n",
    "next_volume_df = next_volume_df.sort_values('Date', ascending=True)\n",
    "\n",
    "print(\"Total number of upcoming listings: \" + str(len(next_volume_df)))\n",
    "print(next_volume_df.head(20))"
   ]
  },
  {
   "cell_type": "code",
   "execution_count": null,
   "metadata": {},
   "outputs": [],
   "source": [
    "#Print the total volume for the next 20 days for all platforms\n",
    "print(\"Total volume for the next 20 days for all platforms\")\n",
    "print(next_volume_df.groupby('Date').sum().reset_index().head(20))"
   ]
  },
  {
   "cell_type": "code",
   "execution_count": null,
   "metadata": {},
   "outputs": [],
   "source": [
    "#Plot the total price volume for the next 20 days\n",
    "(ggplot(next_volume_df.head(20), aes(x='Date', y='Price USD')) +\n",
    "    geom_bar(stat='identity') +\n",
    "    theme_bw() +\n",
    "    theme(axis_text_x=element_text(angle=90, hjust=1),\n",
    "            legend_position=\"none\") +\n",
    "    scale_x_discrete(limits=next_volume_df.head(20)['Date']) +\n",
    "    facet_wrap('~Platform', ncol=1) +\n",
    "    labs(title=\"Total price volume for the next 20 days\", x=\"Date\", y=\"Total price volume\", fill=\"Platform\"))"
   ]
  }
 ],
 "metadata": {
  "kernelspec": {
   "display_name": "Python 3",
   "language": "python",
   "name": "python3"
  },
  "language_info": {
   "codemirror_mode": {
    "name": "ipython",
    "version": 3
   },
   "file_extension": ".py",
   "mimetype": "text/x-python",
   "name": "python",
   "nbconvert_exporter": "python",
   "pygments_lexer": "ipython3",
   "version": "3.10.4"
  },
  "orig_nbformat": 4
 },
 "nbformat": 4,
 "nbformat_minor": 2
}
