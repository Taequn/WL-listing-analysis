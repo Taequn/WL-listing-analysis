{
 "cells": [
  {
   "attachments": {},
   "cell_type": "markdown",
   "metadata": {},
   "source": [
    "Here's the code for analyzing listings!"
   ]
  },
  {
   "cell_type": "code",
   "execution_count": 6,
   "metadata": {},
   "outputs": [],
   "source": [
    "import pandas\n",
    "from plotnine import *\n",
    "import parse\n",
    "import datetime\n",
    "import warnings\n",
    "warnings.filterwarnings('ignore')"
   ]
  },
  {
   "cell_type": "code",
   "execution_count": 7,
   "metadata": {},
   "outputs": [
    {
     "name": "stdout",
     "output_type": "stream",
     "text": [
      "Checking CoinMarketCap\n",
      "Page: 1\n",
      "Page: 2\n",
      "Checking NFTReminder\n",
      "Checking Rarity Sniper\n",
      "Checking UpcomingNFT.net\n",
      "Checking NearingNFT.net\n",
      "Checking Crypto.com\n",
      "Checking mintyscore.com\n",
      "Checking rarity.tools\n",
      "Checking seafloor.io\n",
      "Checking nfteller.io\n",
      "Checking icy.tools\n",
      "Checking nftsolana.io\n"
     ]
    },
    {
     "ename": "IndexError",
     "evalue": "list index out of range",
     "output_type": "error",
     "traceback": [
      "\u001b[0;31m---------------------------------------------------------------------------\u001b[0m",
      "\u001b[0;31mIndexError\u001b[0m                                Traceback (most recent call last)",
      "Cell \u001b[0;32mIn[7], line 2\u001b[0m\n\u001b[1;32m      1\u001b[0m listings \u001b[39m=\u001b[39m parse\u001b[39m.\u001b[39mListings()\n\u001b[0;32m----> 2\u001b[0m df \u001b[39m=\u001b[39m listings\u001b[39m.\u001b[39;49mfetch_data()\n\u001b[1;32m      4\u001b[0m listing_df \u001b[39m=\u001b[39m df\n",
      "File \u001b[0;32m/workspaces/codespaces-jupyter/parse.py:836\u001b[0m, in \u001b[0;36mListings.fetch_data\u001b[0;34m(self)\u001b[0m\n\u001b[1;32m    835\u001b[0m \u001b[39mdef\u001b[39;00m \u001b[39mfetch_data\u001b[39m(\u001b[39mself\u001b[39m):\n\u001b[0;32m--> 836\u001b[0m     \u001b[39mself\u001b[39;49m\u001b[39m.\u001b[39;49mrun(save\u001b[39m=\u001b[39;49m\u001b[39mFalse\u001b[39;49;00m)\n\u001b[1;32m    837\u001b[0m     \u001b[39mreturn\u001b[39;00m \u001b[39mself\u001b[39m\u001b[39m.\u001b[39mdf\n",
      "File \u001b[0;32m/workspaces/codespaces-jupyter/parse.py:826\u001b[0m, in \u001b[0;36mListings.run\u001b[0;34m(self, save)\u001b[0m\n\u001b[1;32m    824\u001b[0m \u001b[39m#self.nftevening() FIX THIS\u001b[39;00m\n\u001b[1;32m    825\u001b[0m \u001b[39mself\u001b[39m\u001b[39m.\u001b[39micytools()\n\u001b[0;32m--> 826\u001b[0m \u001b[39mself\u001b[39;49m\u001b[39m.\u001b[39;49mnftsolana()\n\u001b[1;32m    827\u001b[0m \u001b[39mself\u001b[39m\u001b[39m.\u001b[39mnextdrop()\n\u001b[1;32m    828\u001b[0m \u001b[39mself\u001b[39m\u001b[39m.\u001b[39mnextdrop_com()\n",
      "File \u001b[0;32m/workspaces/codespaces-jupyter/parse.py:623\u001b[0m, in \u001b[0;36mListings.nftsolana\u001b[0;34m(self)\u001b[0m\n\u001b[1;32m    620\u001b[0m request \u001b[39m=\u001b[39m requests\u001b[39m.\u001b[39mget(url)\n\u001b[1;32m    621\u001b[0m soup \u001b[39m=\u001b[39m BeautifulSoup(request\u001b[39m.\u001b[39mcontent, \u001b[39m'\u001b[39m\u001b[39mhtml.parser\u001b[39m\u001b[39m'\u001b[39m)\n\u001b[0;32m--> 623\u001b[0m json_data \u001b[39m=\u001b[39m soup\u001b[39m.\u001b[39;49mfind_all(\u001b[39m'\u001b[39;49m\u001b[39mscript\u001b[39;49m\u001b[39m'\u001b[39;49m, \u001b[39mtype\u001b[39;49m\u001b[39m=\u001b[39;49m\u001b[39m'\u001b[39;49m\u001b[39mapplication/ld+json\u001b[39;49m\u001b[39m'\u001b[39;49m)[\u001b[39m1\u001b[39;49m]\n\u001b[1;32m    624\u001b[0m entries \u001b[39m=\u001b[39m json\u001b[39m.\u001b[39mloads(json_data\u001b[39m.\u001b[39mtext)\n\u001b[1;32m    626\u001b[0m \u001b[39mfor\u001b[39;00m entry \u001b[39min\u001b[39;00m entries:\n",
      "\u001b[0;31mIndexError\u001b[0m: list index out of range"
     ]
    }
   ],
   "source": [
    "listings = parse.Listings()\n",
    "df = listings.fetch_data()\n",
    "\n",
    "listing_df = df"
   ]
  },
  {
   "attachments": {},
   "cell_type": "markdown",
   "metadata": {},
   "source": [
    "The following code block is going to show you a column plot with the most popular listings."
   ]
  },
  {
   "cell_type": "code",
   "execution_count": null,
   "metadata": {},
   "outputs": [],
   "source": [
    "(ggplot(listing_df, aes(x='Listing', fill='Listing')) + \n",
    " geom_bar() + \n",
    " theme_bw() +\n",
    " theme(axis_text_x=element_text(angle=90, hjust=1), \n",
    "       legend_position=\"none\"))"
   ]
  },
  {
   "attachments": {},
   "cell_type": "markdown",
   "metadata": {},
   "source": [
    "The following code block is going to print top 10 the most listed collections"
   ]
  },
  {
   "cell_type": "code",
   "execution_count": null,
   "metadata": {},
   "outputs": [],
   "source": [
    "listed_df = df.groupby('Collection').size().reset_index(name='counts')\n",
    "top10 = listed_df.sort_values('counts', ascending=False).head(10)\n",
    "\n",
    "#add all the information for the top 10 collections from df\n",
    "top10 = top10.merge(df, on='Collection', how='left').drop_duplicates(subset='Collection', keep='first')\n",
    "#print top10\n",
    "for index, row in top10.iterrows():\n",
    "    print(\"Collection: \" + row['Collection'] + \" (Listed \" +  str(row['counts']) + \")\")\n",
    "    print(\"Date: \" + row['Date'])\n",
    "    print(\"Mint: \" + str(row['Price']) + \" at \" + row['Platform'])\n",
    "    print(\"Twitter: \" + row['Twitter'] + \"\\n\")"
   ]
  },
  {
   "cell_type": "code",
   "execution_count": null,
   "metadata": {},
   "outputs": [],
   "source": [
    "(ggplot(top10, aes(x='Collection', y='counts', fill='Collection')) +\n",
    "    geom_bar(stat='identity') +\n",
    "    theme_bw() +\n",
    "    theme(axis_text_x=element_text(angle=90, hjust=1),\n",
    "            legend_position=\"none\") +\n",
    "    scale_x_discrete(limits=top10.sort_values('counts', ascending=False)['Collection']))"
   ]
  },
  {
   "attachments": {},
   "cell_type": "markdown",
   "metadata": {},
   "source": [
    "Preparing the dataset with mint dates"
   ]
  },
  {
   "cell_type": "code",
   "execution_count": 48,
   "metadata": {},
   "outputs": [],
   "source": [
    "mint_days_df = df\n",
    "mint_days_df = mint_days_df[mint_days_df.Date != 'TBA']\n",
    "#Convert Date to datetime\n",
    "mint_days_df['Date'] = pandas.to_datetime(mint_days_df['Date'])\n",
    "mint_days_df['Date'] = mint_days_df['Date'].dt.strftime('%Y-%m-%d')\n",
    "\n",
    "#group by date and count\n",
    "popular_mint_days = mint_days_df.groupby('Date').size().reset_index(name='counts')\n",
    "popular_mint_days = popular_mint_days.sort_values('Date', ascending=True)\n",
    "popular_mint_days = popular_mint_days[popular_mint_days['Date'] >= datetime.datetime.today().strftime('%Y-%m-%d')]"
   ]
  },
  {
   "cell_type": "code",
   "execution_count": null,
   "metadata": {},
   "outputs": [],
   "source": [
    "#Plotting the the next 20 popular mint days\n",
    "(ggplot(popular_mint_days.head(20), aes(x='Date', y='counts', fill='Date')) +\n",
    "    geom_bar(stat='identity') +\n",
    "    theme_bw() +\n",
    "    theme(axis_text_x=element_text(angle=90, hjust=1),\n",
    "            legend_position=\"none\") +\n",
    "    scale_x_discrete(limits=popular_mint_days.head(20)['Date']))"
   ]
  },
  {
   "cell_type": "code",
   "execution_count": null,
   "metadata": {},
   "outputs": [],
   "source": [
    "#Getting the total view of the upcoming mint days\n",
    "(ggplot(popular_mint_days, aes(x='Date', y='counts', fill='Date')) +\n",
    "    geom_bar(stat='identity') +\n",
    "    theme_bw() +\n",
    "    #remove x axis labels\n",
    "    theme(axis_text_x=element_blank(),\n",
    "          legend_position=\"none\") +\n",
    "    scale_x_discrete(limits=popular_mint_days['Date']))"
   ]
  }
 ],
 "metadata": {
  "kernelspec": {
   "display_name": "Python 3",
   "language": "python",
   "name": "python3"
  },
  "language_info": {
   "codemirror_mode": {
    "name": "ipython",
    "version": 3
   },
   "file_extension": ".py",
   "mimetype": "text/x-python",
   "name": "python",
   "nbconvert_exporter": "python",
   "pygments_lexer": "ipython3",
   "version": "3.10.4"
  },
  "orig_nbformat": 4
 },
 "nbformat": 4,
 "nbformat_minor": 2
}
